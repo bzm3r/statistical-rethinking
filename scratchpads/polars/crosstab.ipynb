{
 "cells": [
  {
   "cell_type": "code",
   "execution_count": 1,
   "metadata": {},
   "outputs": [
    {
     "data": {
      "text/html": [
       "<div><style>\n",
       ".dataframe > thead > tr,\n",
       ".dataframe > tbody > tr {\n",
       "  text-align: right;\n",
       "  white-space: pre-wrap;\n",
       "}\n",
       "</style>\n",
       "<small>shape: (4, 3)</small><table border=\"1\" class=\"dataframe\"><thead><tr><th>x</th><th>y</th><th>count</th></tr><tr><td>str</td><td>str</td><td>i64</td></tr></thead><tbody><tr><td>&quot;hello&quot;</td><td>&quot;alpha&quot;</td><td>2</td></tr><tr><td>&quot;hello&quot;</td><td>&quot;beta&quot;</td><td>2</td></tr><tr><td>&quot;world&quot;</td><td>&quot;beta&quot;</td><td>1</td></tr><tr><td>&quot;world&quot;</td><td>&quot;alpha&quot;</td><td>1</td></tr></tbody></table></div>"
      ],
      "text/plain": [
       "shape: (4, 3)\n",
       "┌───────┬───────┬───────┐\n",
       "│ x     ┆ y     ┆ count │\n",
       "│ ---   ┆ ---   ┆ ---   │\n",
       "│ str   ┆ str   ┆ i64   │\n",
       "╞═══════╪═══════╪═══════╡\n",
       "│ hello ┆ alpha ┆ 2     │\n",
       "│ hello ┆ beta  ┆ 2     │\n",
       "│ world ┆ beta  ┆ 1     │\n",
       "│ world ┆ alpha ┆ 1     │\n",
       "└───────┴───────┴───────┘"
      ]
     },
     "execution_count": 1,
     "metadata": {},
     "output_type": "execute_result"
    }
   ],
   "source": [
    "import polars as pl\n",
    "\n",
    "xs = pl.DataFrame(pl.Series(\"x\", [\"hello\", \"hello\", \"world\"]))\n",
    "ys = pl.DataFrame(pl.Series(\"y\", [\"alpha\", \"beta\"]))\n",
    "\n",
    "cross = xs.join(ys, how=\"cross\")\n",
    "\n",
    "crosstab = (\n",
    "    cross.with_columns(count=pl.lit(1, dtype=pl.Int64()))\n",
    "    .group_by(\"x\", \"y\")\n",
    "    .agg(pl.col(\"count\").sum())\n",
    ")\n",
    "\n",
    "crosstab\n"
   ]
  }
 ],
 "metadata": {
  "kernelspec": {
   "display_name": ".venv",
   "language": "python",
   "name": "python3"
  },
  "language_info": {
   "codemirror_mode": {
    "name": "ipython",
    "version": 3
   },
   "file_extension": ".py",
   "mimetype": "text/x-python",
   "name": "python",
   "nbconvert_exporter": "python",
   "pygments_lexer": "ipython3",
   "version": "3.12.4"
  }
 },
 "nbformat": 4,
 "nbformat_minor": 2
}
