{
 "cells": [
  {
   "cell_type": "code",
   "execution_count": 4,
   "metadata": {},
   "outputs": [
    {
     "data": {
      "text/html": [
       "<div><style>\n",
       ".dataframe > thead > tr,\n",
       ".dataframe > tbody > tr {\n",
       "  text-align: right;\n",
       "  white-space: pre-wrap;\n",
       "}\n",
       "</style>\n",
       "<small>shape: (6,)</small><table border=\"1\" class=\"dataframe\"><thead><tr><th>x</th></tr><tr><td>f64</td></tr></thead><tbody><tr><td>-2.5</td></tr><tr><td>-1.5</td></tr><tr><td>-0.5</td></tr><tr><td>0.5</td></tr><tr><td>1.5</td></tr><tr><td>2.5</td></tr></tbody></table></div>"
      ],
      "text/plain": [
       "shape: (6,)\n",
       "Series: 'x' [f64]\n",
       "[\n",
       "\t-2.5\n",
       "\t-1.5\n",
       "\t-0.5\n",
       "\t0.5\n",
       "\t1.5\n",
       "\t2.5\n",
       "]"
      ]
     },
     "execution_count": 4,
     "metadata": {},
     "output_type": "execute_result"
    },
    {
     "data": {
      "text/html": [
       "<div><style>\n",
       ".dataframe > thead > tr,\n",
       ".dataframe > tbody > tr {\n",
       "  text-align: right;\n",
       "  white-space: pre-wrap;\n",
       "}\n",
       "</style>\n",
       "<small>shape: (6,)</small><table border=\"1\" class=\"dataframe\"><thead><tr><th>x</th></tr><tr><td>f64</td></tr></thead><tbody><tr><td>-1.870829</td></tr><tr><td>-0.870829</td></tr><tr><td>0.129171</td></tr><tr><td>1.129171</td></tr><tr><td>2.129171</td></tr><tr><td>3.129171</td></tr></tbody></table></div>"
      ],
      "text/plain": [
       "shape: (6,)\n",
       "Series: 'x' [f64]\n",
       "[\n",
       "\t-1.870829\n",
       "\t-0.870829\n",
       "\t0.129171\n",
       "\t1.129171\n",
       "\t2.129171\n",
       "\t3.129171\n",
       "]"
      ]
     },
     "execution_count": 4,
     "metadata": {},
     "output_type": "execute_result"
    }
   ],
   "source": [
    "import sys\n",
    "import polars as pl\n",
    "\n",
    "xs = pl.Series(\"x\", [0, 1, 2, 3, 4, 5])\n",
    "\n",
    "center = xs - xs.drop_nulls().mean()\n",
    "\n",
    "sys.displayhook(center)\n",
    "sys.displayhook(center )\n"
   ]
  }
 ],
 "metadata": {
  "kernelspec": {
   "display_name": ".venv",
   "language": "python",
   "name": "python3"
  },
  "language_info": {
   "codemirror_mode": {
    "name": "ipython",
    "version": 3
   },
   "file_extension": ".py",
   "mimetype": "text/x-python",
   "name": "python",
   "nbconvert_exporter": "python",
   "pygments_lexer": "ipython3",
   "version": "3.12.4"
  }
 },
 "nbformat": 4,
 "nbformat_minor": 2
}
